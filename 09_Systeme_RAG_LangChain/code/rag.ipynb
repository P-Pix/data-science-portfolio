{
 "cells": [
  {
   "cell_type": "markdown",
   "id": "6301c0e8",
   "metadata": {},
   "source": [
    "# Projet 9 – Conception d’un système RAG (Retrieval-Augmented Generation)\n",
    "\n",
    "Vous développerez un système de génération augmentée par la recherche (RAG) à l’aide de LangChain, Mistral, et une base vectorielle Faiss.\n",
    "\n",
    "🔧 Objectifs :\n",
    "- Intégration de modèles LLM\n",
    "- Création d’un système de recherche documentaire intelligent\n",
    "\n",
    "Data :\n",
    "- Données issues [kaggle](https://www.kaggle.com/datasets/rmisra/news-category-dataset)"
   ]
  },
  {
   "cell_type": "markdown",
   "id": "292bda1d",
   "metadata": {},
   "source": []
  }
 ],
 "metadata": {
  "language_info": {
   "name": "python"
  }
 },
 "nbformat": 4,
 "nbformat_minor": 5
}
