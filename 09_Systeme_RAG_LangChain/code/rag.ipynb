{
 "cells": [
  {
   "cell_type": "markdown",
   "id": "6301c0e8",
   "metadata": {},
   "source": [
    "# Projet 9 – Conception d’un système RAG (Retrieval-Augmented Generation)\n",
    "\n",
    "Vous développerez un système de génération augmentée par la recherche (RAG) à l’aide de LangChain, Mistral, et une base vectorielle Faiss.\n",
    "\n",
    "🔧 Objectifs :\n",
    "- Intégration de modèles LLM\n",
    "- Création d’un système de recherche documentaire intelligent\n",
    "\n",
    "Data :\n",
    "- Données issues [kaggle](https://www.kaggle.com/datasets/rmisra/news-category-dataset)"
   ]
  },
  {
   "cell_type": "code",
   "execution_count": 2,
   "id": "292bda1d",
   "metadata": {},
   "outputs": [
    {
     "name": "stdout",
     "output_type": "stream",
     "text": [
      "(209527, 6)\n",
      "Index(['link', 'headline', 'category', 'short_description', 'authors', 'date'], dtype='object')\n"
     ]
    },
    {
     "data": {
      "application/vnd.microsoft.datawrangler.viewer.v0+json": {
       "columns": [
        {
         "name": "index",
         "rawType": "int64",
         "type": "integer"
        },
        {
         "name": "link",
         "rawType": "object",
         "type": "string"
        },
        {
         "name": "headline",
         "rawType": "object",
         "type": "string"
        },
        {
         "name": "category",
         "rawType": "object",
         "type": "string"
        },
        {
         "name": "short_description",
         "rawType": "object",
         "type": "string"
        },
        {
         "name": "authors",
         "rawType": "object",
         "type": "string"
        },
        {
         "name": "date",
         "rawType": "datetime64[ns]",
         "type": "datetime"
        }
       ],
       "ref": "9771214e-fa79-468d-8c1a-e0296200fce6",
       "rows": [
        [
         "0",
         "https://www.huffpost.com/entry/covid-boosters-uptake-us_n_632d719ee4b087fae6feaac9",
         "Over 4 Million Americans Roll Up Sleeves For Omicron-Targeted COVID Boosters",
         "U.S. NEWS",
         "Health experts said it is too early to predict whether demand would match up with the 171 million doses of the new boosters the U.S. ordered for the fall.",
         "Carla K. Johnson, AP",
         "2022-09-23 00:00:00"
        ],
        [
         "1",
         "https://www.huffpost.com/entry/american-airlines-passenger-banned-flight-attendant-punch-justice-department_n_632e25d3e4b0e247890329fe",
         "American Airlines Flyer Charged, Banned For Life After Punching Flight Attendant On Video",
         "U.S. NEWS",
         "He was subdued by passengers and crew when he fled to the back of the aircraft after the confrontation, according to the U.S. attorney's office in Los Angeles.",
         "Mary Papenfuss",
         "2022-09-23 00:00:00"
        ],
        [
         "2",
         "https://www.huffpost.com/entry/funniest-tweets-cats-dogs-september-17-23_n_632de332e4b0695c1d81dc02",
         "23 Of The Funniest Tweets About Cats And Dogs This Week (Sept. 17-23)",
         "COMEDY",
         "\"Until you have a dog you don't understand what could be eaten.\"",
         "Elyse Wanshel",
         "2022-09-23 00:00:00"
        ],
        [
         "3",
         "https://www.huffpost.com/entry/funniest-parenting-tweets_l_632d7d15e4b0d12b5403e479",
         "The Funniest Tweets From Parents This Week (Sept. 17-23)",
         "PARENTING",
         "\"Accidentally put grown-up toothpaste on my toddler’s toothbrush and he screamed like I was cleaning his teeth with a Carolina Reaper dipped in Tabasco sauce.\"",
         "Caroline Bologna",
         "2022-09-23 00:00:00"
        ],
        [
         "4",
         "https://www.huffpost.com/entry/amy-cooper-loses-discrimination-lawsuit-franklin-templeton_n_632c6463e4b09d8701bd227e",
         "Woman Who Called Cops On Black Bird-Watcher Loses Lawsuit Against Ex-Employer",
         "U.S. NEWS",
         "Amy Cooper accused investment firm Franklin Templeton of unfairly firing her and branding her a racist after video of the Central Park encounter went viral.",
         "Nina Golgowski",
         "2022-09-22 00:00:00"
        ]
       ],
       "shape": {
        "columns": 6,
        "rows": 5
       }
      },
      "text/html": [
       "<div>\n",
       "<style scoped>\n",
       "    .dataframe tbody tr th:only-of-type {\n",
       "        vertical-align: middle;\n",
       "    }\n",
       "\n",
       "    .dataframe tbody tr th {\n",
       "        vertical-align: top;\n",
       "    }\n",
       "\n",
       "    .dataframe thead th {\n",
       "        text-align: right;\n",
       "    }\n",
       "</style>\n",
       "<table border=\"1\" class=\"dataframe\">\n",
       "  <thead>\n",
       "    <tr style=\"text-align: right;\">\n",
       "      <th></th>\n",
       "      <th>link</th>\n",
       "      <th>headline</th>\n",
       "      <th>category</th>\n",
       "      <th>short_description</th>\n",
       "      <th>authors</th>\n",
       "      <th>date</th>\n",
       "    </tr>\n",
       "  </thead>\n",
       "  <tbody>\n",
       "    <tr>\n",
       "      <th>0</th>\n",
       "      <td>https://www.huffpost.com/entry/covid-boosters-...</td>\n",
       "      <td>Over 4 Million Americans Roll Up Sleeves For O...</td>\n",
       "      <td>U.S. NEWS</td>\n",
       "      <td>Health experts said it is too early to predict...</td>\n",
       "      <td>Carla K. Johnson, AP</td>\n",
       "      <td>2022-09-23</td>\n",
       "    </tr>\n",
       "    <tr>\n",
       "      <th>1</th>\n",
       "      <td>https://www.huffpost.com/entry/american-airlin...</td>\n",
       "      <td>American Airlines Flyer Charged, Banned For Li...</td>\n",
       "      <td>U.S. NEWS</td>\n",
       "      <td>He was subdued by passengers and crew when he ...</td>\n",
       "      <td>Mary Papenfuss</td>\n",
       "      <td>2022-09-23</td>\n",
       "    </tr>\n",
       "    <tr>\n",
       "      <th>2</th>\n",
       "      <td>https://www.huffpost.com/entry/funniest-tweets...</td>\n",
       "      <td>23 Of The Funniest Tweets About Cats And Dogs ...</td>\n",
       "      <td>COMEDY</td>\n",
       "      <td>\"Until you have a dog you don't understand wha...</td>\n",
       "      <td>Elyse Wanshel</td>\n",
       "      <td>2022-09-23</td>\n",
       "    </tr>\n",
       "    <tr>\n",
       "      <th>3</th>\n",
       "      <td>https://www.huffpost.com/entry/funniest-parent...</td>\n",
       "      <td>The Funniest Tweets From Parents This Week (Se...</td>\n",
       "      <td>PARENTING</td>\n",
       "      <td>\"Accidentally put grown-up toothpaste on my to...</td>\n",
       "      <td>Caroline Bologna</td>\n",
       "      <td>2022-09-23</td>\n",
       "    </tr>\n",
       "    <tr>\n",
       "      <th>4</th>\n",
       "      <td>https://www.huffpost.com/entry/amy-cooper-lose...</td>\n",
       "      <td>Woman Who Called Cops On Black Bird-Watcher Lo...</td>\n",
       "      <td>U.S. NEWS</td>\n",
       "      <td>Amy Cooper accused investment firm Franklin Te...</td>\n",
       "      <td>Nina Golgowski</td>\n",
       "      <td>2022-09-22</td>\n",
       "    </tr>\n",
       "  </tbody>\n",
       "</table>\n",
       "</div>"
      ],
      "text/plain": [
       "                                                link  \\\n",
       "0  https://www.huffpost.com/entry/covid-boosters-...   \n",
       "1  https://www.huffpost.com/entry/american-airlin...   \n",
       "2  https://www.huffpost.com/entry/funniest-tweets...   \n",
       "3  https://www.huffpost.com/entry/funniest-parent...   \n",
       "4  https://www.huffpost.com/entry/amy-cooper-lose...   \n",
       "\n",
       "                                            headline   category  \\\n",
       "0  Over 4 Million Americans Roll Up Sleeves For O...  U.S. NEWS   \n",
       "1  American Airlines Flyer Charged, Banned For Li...  U.S. NEWS   \n",
       "2  23 Of The Funniest Tweets About Cats And Dogs ...     COMEDY   \n",
       "3  The Funniest Tweets From Parents This Week (Se...  PARENTING   \n",
       "4  Woman Who Called Cops On Black Bird-Watcher Lo...  U.S. NEWS   \n",
       "\n",
       "                                   short_description               authors  \\\n",
       "0  Health experts said it is too early to predict...  Carla K. Johnson, AP   \n",
       "1  He was subdued by passengers and crew when he ...        Mary Papenfuss   \n",
       "2  \"Until you have a dog you don't understand wha...         Elyse Wanshel   \n",
       "3  \"Accidentally put grown-up toothpaste on my to...      Caroline Bologna   \n",
       "4  Amy Cooper accused investment firm Franklin Te...        Nina Golgowski   \n",
       "\n",
       "        date  \n",
       "0 2022-09-23  \n",
       "1 2022-09-23  \n",
       "2 2022-09-23  \n",
       "3 2022-09-23  \n",
       "4 2022-09-22  "
      ]
     },
     "execution_count": 2,
     "metadata": {},
     "output_type": "execute_result"
    }
   ],
   "source": [
    "import numpy as np\n",
    "import matplotlib.pyplot as plt\n",
    "import pandas as pd\n",
    "import os\n",
    "import json\n",
    "\n",
    "FILE = \"News_Category_Dataset_v3\"\n",
    "DATA = pd.read_json(f\"../data/{FILE}.json\", lines=True)\n",
    "print(DATA.shape)\n",
    "print(DATA.columns)\n",
    "DATA.head()"
   ]
  },
  {
   "cell_type": "code",
   "execution_count": 3,
   "id": "a2584cb6",
   "metadata": {},
   "outputs": [
    {
     "name": "stderr",
     "output_type": "stream",
     "text": [
      "/tmp/ipykernel_510/535505019.py:7: LangChainDeprecationWarning: The class `HuggingFaceEmbeddings` was deprecated in LangChain 0.2.2 and will be removed in 1.0. An updated version of the class exists in the langchain-huggingface package and should be used instead. To use it run `pip install -U langchain-huggingface` and import as `from langchain_huggingface import HuggingFaceEmbeddings`.\n",
      "  embeddings = HuggingFaceEmbeddings(model_name=\"sentence-transformers/all-MiniLM-L6-v2\")\n",
      "/home/guillaume/.local/lib/python3.8/site-packages/sentence_transformers/cross_encoder/CrossEncoder.py:13: TqdmWarning: IProgress not found. Please update jupyter and ipywidgets. See https://ipywidgets.readthedocs.io/en/stable/user_install.html\n",
      "  from tqdm.autonotebook import tqdm, trange\n"
     ]
    },
    {
     "name": "stdout",
     "output_type": "stream",
     "text": [
      "Embeddings initialized.\n",
      "Converted 209527 documents from short descriptions.\n"
     ]
    },
    {
     "ename": "",
     "evalue": "",
     "output_type": "error",
     "traceback": [
      "\u001b[1;31mThe Kernel crashed while executing code in the current cell or a previous cell. \n",
      "\u001b[1;31mPlease review the code in the cell(s) to identify a possible cause of the failure. \n",
      "\u001b[1;31mClick <a href='https://aka.ms/vscodeJupyterKernelCrash'>here</a> for more info. \n",
      "\u001b[1;31mView Jupyter <a href='command:jupyter.viewOutput'>log</a> for further details."
     ]
    }
   ],
   "source": [
    "# RAG à l’aide de LangChain, Mistral, et une base vectorielle Faiss\n",
    "from langchain.embeddings import HuggingFaceEmbeddings\n",
    "from langchain.vectorstores import FAISS\n",
    "from langchain.schema import Document\n",
    "\n",
    "# Initialize HuggingFace embeddings (you can choose a model, e.g., 'all-MiniLM-L6-v2')\n",
    "embeddings = HuggingFaceEmbeddings(model_name=\"sentence-transformers/all-MiniLM-L6-v2\")\n",
    "print(\"Embeddings initialized.\")\n",
    "# Convert short_descriptions to Document objects\n",
    "documents = [Document(page_content=desc) for desc in DATA['short_description'].tolist()]\n",
    "print(f\"Converted {len(documents)} documents from short descriptions.\")\n",
    "# Create a FAISS vector store\n",
    "vector_store = FAISS.from_documents(documents, embeddings)\n",
    "print(\"FAISS vector store created.\")\n",
    "# Save the vector store to disk\n",
    "vector_store.save_local(f\"../data/{FILE}_faiss\")\n",
    "print(f\"Vector store saved to ../data/{FILE}_faiss\")\n",
    "\n",
    "# Load the vector store from disk\n",
    "loaded_vector_store = FAISS.load_local(f\"../data/{FILE}_faiss\", embeddings)\n",
    "# Example query\n",
    "query = \"What are the latest trends in AI?\"\n",
    "results = loaded_vector_store.similarity_search(query, k=5)\n",
    "# Display results\n",
    "for result in results:\n",
    "    print(f\"Text: {result.page_content}\\nScore: {result.score}\\n\")\n",
    "# Save the results to a JSON file\n",
    "output_file = f\"../data/{FILE}_results.json\"\n",
    "with open(output_file, 'w') as f:\n",
    "    json.dump([{\"text\": result.page_content, \"score\": result.score} for result in results], f, indent=4)\n",
    "print(f\"Results saved to {output_file}\")\n",
    "# Plotting the distribution of categories\n",
    "category_counts = DATA['category'].value_counts()\n",
    "plt.figure(figsize=(12, 6))\n",
    "category_counts.plot(kind='bar')\n",
    "plt.title('Distribution of News Categories')\n",
    "plt.xlabel('Category')\n",
    "plt.ylabel('Number of Articles')\n",
    "plt.xticks(rotation=45)\n",
    "plt.tight_layout()\n",
    "plt.show()"
   ]
  },
  {
   "cell_type": "code",
   "execution_count": null,
   "id": "174e945d",
   "metadata": {},
   "outputs": [],
   "source": []
  }
 ],
 "metadata": {
  "kernelspec": {
   "display_name": "Python 3",
   "language": "python",
   "name": "python3"
  },
  "language_info": {
   "codemirror_mode": {
    "name": "ipython",
    "version": 3
   },
   "file_extension": ".py",
   "mimetype": "text/x-python",
   "name": "python",
   "nbconvert_exporter": "python",
   "pygments_lexer": "ipython3",
   "version": "3.8.10"
  }
 },
 "nbformat": 4,
 "nbformat_minor": 5
}
