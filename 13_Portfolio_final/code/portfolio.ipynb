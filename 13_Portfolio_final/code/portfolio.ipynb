{
 "cells": [
  {
   "cell_type": "markdown",
   "id": "e598cfc4",
   "metadata": {},
   "source": [
    "# Projet 13 – Portfolio Data Scientist\n",
    "\n",
    "Vous présenterez un projet personnel ou professionnel intégrant toutes les compétences acquises, de l’analyse à la mise en production.\n",
    "\n",
    "🔧 Objectifs :\n",
    "- Démonstration de votre savoir-faire complet\n",
    "- Rédaction d’un rapport technique et stratégique\n",
    "\n",
    "Data : \n",
    "- Données issues : [Open Food facts](https://world.openfoodfacts.org/data)"
   ]
  },
  {
   "cell_type": "markdown",
   "id": "f367d962",
   "metadata": {},
   "source": []
  }
 ],
 "metadata": {
  "language_info": {
   "name": "python"
  }
 },
 "nbformat": 4,
 "nbformat_minor": 5
}
