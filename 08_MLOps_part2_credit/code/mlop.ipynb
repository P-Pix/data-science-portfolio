{
 "cells": [
  {
   "cell_type": "markdown",
   "id": "040e2de4",
   "metadata": {},
   "source": [
    "# Projet 8 – MLOps avancé : dashboard et API cloud\n",
    "\n",
    "Dans ce projet, vous implémenterez un dashboard explicatif des décisions d’un modèle de crédit, le déploierez dans le cloud, et assurerez le suivi des performances.\n",
    "\n",
    "🔧 Objectifs :\n",
    "- Déploiement cloud\n",
    "- Suivi du drift\n",
    "- Monitoring avec dashboard\n",
    "\n",
    "Data : \n",
    "- Données issues [kaggle](https://www.kaggle.com/datasets/altruistdelhite04/loan-prediction-problem-dataset)"
   ]
  },
  {
   "cell_type": "markdown",
   "id": "58fe0ac2",
   "metadata": {},
   "source": []
  }
 ],
 "metadata": {
  "language_info": {
   "name": "python"
  }
 },
 "nbformat": 4,
 "nbformat_minor": 5
}
