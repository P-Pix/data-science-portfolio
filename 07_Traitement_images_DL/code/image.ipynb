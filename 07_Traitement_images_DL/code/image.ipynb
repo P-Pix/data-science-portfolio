{
 "cells": [
  {
   "cell_type": "markdown",
   "id": "1d25046c",
   "metadata": {},
   "source": [
    "# Projet 7 – Traitement automatique d’images avec Deep Learning\n",
    "\n",
    "Ce projet introduit la vision par ordinateur. Vous développerez un modèle de deep learning pour classer automatiquement des images à partir d'un dataset semi-étiqueté.\n",
    "\n",
    "🔧 Objectifs :\n",
    "- Préparation des images\n",
    "- Construction d’un réseau de neurones convolutionnel\n",
    "\n",
    "Data:\n",
    "- Données issue [kaggle](https://www.kaggle.com/datasets/puneet6060/intel-image-classification)"
   ]
  }
 ],
 "metadata": {
  "language_info": {
   "name": "python"
  }
 },
 "nbformat": 4,
 "nbformat_minor": 5
}
