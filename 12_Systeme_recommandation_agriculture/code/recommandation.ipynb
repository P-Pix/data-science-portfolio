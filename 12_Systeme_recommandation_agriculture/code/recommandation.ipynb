{
 "cells": [
  {
   "cell_type": "markdown",
   "id": "5af4b964",
   "metadata": {},
   "source": [
    "# Projet 12 – Système de recommandation pour l’agriculture\n",
    "\n",
    "Vous construirez un moteur de recommandation de traitements agricoles basé sur les données. Ce projet met l’accent sur l’industrialisation du pipeline ML.\n",
    "\n",
    "🔧 Objectifs :\n",
    "- Optimisation et mise à jour automatique du modèle\n",
    "- Intégration continue\n",
    "\n",
    "Data :\n",
    "- Données issues [FAO](https://www.fao.org/faostat/en/#home)\n",
    "- API issues [Open Weather Map](https://openweathermap.org/api)"
   ]
  },
  {
   "cell_type": "markdown",
   "id": "1f88b55e",
   "metadata": {},
   "source": []
  }
 ],
 "metadata": {
  "language_info": {
   "name": "python"
  }
 },
 "nbformat": 4,
 "nbformat_minor": 5
}
