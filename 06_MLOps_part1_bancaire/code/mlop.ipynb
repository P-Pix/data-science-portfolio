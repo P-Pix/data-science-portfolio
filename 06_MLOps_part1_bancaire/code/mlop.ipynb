{
 "cells": [
  {
   "cell_type": "markdown",
   "id": "df2fd997",
   "metadata": {},
   "source": [
    "# Projet 6 – Introduction au MLOps : classification bancaire\n",
    "\n",
    "Vous allez explorer les bases du MLOps en versionnant et suivant un modèle de classification binaire (octroi de crédit) grâce à des outils comme MLflow.\n",
    "\n",
    "🔧 Objectifs :\n",
    "- Suivi des performances d’un modèle\n",
    "- Gestion des hyperparamètres\n",
    "- Contrôle du surapprentissage\n",
    "\n",
    "Data :\n",
    "- Données issues [kaggle](https://www.kaggle.com/c/GiveMeSomeCredit/data)"
   ]
  },
  {
   "cell_type": "code",
   "execution_count": 4,
   "id": "26165ef5",
   "metadata": {},
   "outputs": [
    {
     "name": "stdout",
     "output_type": "stream",
     "text": [
      "Index(['SeriousDlqin2yrs', 'RevolvingUtilizationOfUnsecuredLines', 'age',\n",
      "       'NumberOfTime30-59DaysPastDueNotWorse', 'DebtRatio', 'MonthlyIncome',\n",
      "       'NumberOfOpenCreditLinesAndLoans', 'NumberOfTimes90DaysLate',\n",
      "       'NumberRealEstateLoansOrLines', 'NumberOfTime60-89DaysPastDueNotWorse',\n",
      "       'NumberOfDependents'],\n",
      "      dtype='object')\n",
      "(251503, 11)\n"
     ]
    },
    {
     "data": {
      "application/vnd.microsoft.datawrangler.viewer.v0+json": {
       "columns": [
        {
         "name": "index",
         "rawType": "int64",
         "type": "integer"
        },
        {
         "name": "SeriousDlqin2yrs",
         "rawType": "float64",
         "type": "float"
        },
        {
         "name": "RevolvingUtilizationOfUnsecuredLines",
         "rawType": "float64",
         "type": "float"
        },
        {
         "name": "age",
         "rawType": "int64",
         "type": "integer"
        },
        {
         "name": "NumberOfTime30-59DaysPastDueNotWorse",
         "rawType": "int64",
         "type": "integer"
        },
        {
         "name": "DebtRatio",
         "rawType": "float64",
         "type": "float"
        },
        {
         "name": "MonthlyIncome",
         "rawType": "float64",
         "type": "float"
        },
        {
         "name": "NumberOfOpenCreditLinesAndLoans",
         "rawType": "int64",
         "type": "integer"
        },
        {
         "name": "NumberOfTimes90DaysLate",
         "rawType": "int64",
         "type": "integer"
        },
        {
         "name": "NumberRealEstateLoansOrLines",
         "rawType": "int64",
         "type": "integer"
        },
        {
         "name": "NumberOfTime60-89DaysPastDueNotWorse",
         "rawType": "int64",
         "type": "integer"
        },
        {
         "name": "NumberOfDependents",
         "rawType": "float64",
         "type": "float"
        }
       ],
       "ref": "4b7fdc85-f714-4c64-9577-fbc75e9a3aec",
       "rows": [
        [
         "0",
         "1.0",
         "0.766126609",
         "45",
         "2",
         "0.802982129",
         "9120.0",
         "13",
         "0",
         "6",
         "0",
         "2.0"
        ],
        [
         "1",
         "0.0",
         "0.957151019",
         "40",
         "0",
         "0.121876201",
         "2600.0",
         "4",
         "0",
         "0",
         "0",
         "1.0"
        ],
        [
         "2",
         "0.0",
         "0.65818014",
         "38",
         "1",
         "0.085113375",
         "3042.0",
         "2",
         "1",
         "0",
         "0",
         "0.0"
        ],
        [
         "3",
         "0.0",
         "0.233809776",
         "30",
         "0",
         "0.036049682",
         "3300.0",
         "5",
         "0",
         "0",
         "0",
         "0.0"
        ],
        [
         "4",
         "0.0",
         "0.9072394",
         "49",
         "1",
         "0.024925695",
         "63588.0",
         "7",
         "0",
         "1",
         "0",
         "0.0"
        ]
       ],
       "shape": {
        "columns": 11,
        "rows": 5
       }
      },
      "text/html": [
       "<div>\n",
       "<style scoped>\n",
       "    .dataframe tbody tr th:only-of-type {\n",
       "        vertical-align: middle;\n",
       "    }\n",
       "\n",
       "    .dataframe tbody tr th {\n",
       "        vertical-align: top;\n",
       "    }\n",
       "\n",
       "    .dataframe thead th {\n",
       "        text-align: right;\n",
       "    }\n",
       "</style>\n",
       "<table border=\"1\" class=\"dataframe\">\n",
       "  <thead>\n",
       "    <tr style=\"text-align: right;\">\n",
       "      <th></th>\n",
       "      <th>SeriousDlqin2yrs</th>\n",
       "      <th>RevolvingUtilizationOfUnsecuredLines</th>\n",
       "      <th>age</th>\n",
       "      <th>NumberOfTime30-59DaysPastDueNotWorse</th>\n",
       "      <th>DebtRatio</th>\n",
       "      <th>MonthlyIncome</th>\n",
       "      <th>NumberOfOpenCreditLinesAndLoans</th>\n",
       "      <th>NumberOfTimes90DaysLate</th>\n",
       "      <th>NumberRealEstateLoansOrLines</th>\n",
       "      <th>NumberOfTime60-89DaysPastDueNotWorse</th>\n",
       "      <th>NumberOfDependents</th>\n",
       "    </tr>\n",
       "  </thead>\n",
       "  <tbody>\n",
       "    <tr>\n",
       "      <th>0</th>\n",
       "      <td>1.0</td>\n",
       "      <td>0.766127</td>\n",
       "      <td>45</td>\n",
       "      <td>2</td>\n",
       "      <td>0.802982</td>\n",
       "      <td>9120.0</td>\n",
       "      <td>13</td>\n",
       "      <td>0</td>\n",
       "      <td>6</td>\n",
       "      <td>0</td>\n",
       "      <td>2.0</td>\n",
       "    </tr>\n",
       "    <tr>\n",
       "      <th>1</th>\n",
       "      <td>0.0</td>\n",
       "      <td>0.957151</td>\n",
       "      <td>40</td>\n",
       "      <td>0</td>\n",
       "      <td>0.121876</td>\n",
       "      <td>2600.0</td>\n",
       "      <td>4</td>\n",
       "      <td>0</td>\n",
       "      <td>0</td>\n",
       "      <td>0</td>\n",
       "      <td>1.0</td>\n",
       "    </tr>\n",
       "    <tr>\n",
       "      <th>2</th>\n",
       "      <td>0.0</td>\n",
       "      <td>0.658180</td>\n",
       "      <td>38</td>\n",
       "      <td>1</td>\n",
       "      <td>0.085113</td>\n",
       "      <td>3042.0</td>\n",
       "      <td>2</td>\n",
       "      <td>1</td>\n",
       "      <td>0</td>\n",
       "      <td>0</td>\n",
       "      <td>0.0</td>\n",
       "    </tr>\n",
       "    <tr>\n",
       "      <th>3</th>\n",
       "      <td>0.0</td>\n",
       "      <td>0.233810</td>\n",
       "      <td>30</td>\n",
       "      <td>0</td>\n",
       "      <td>0.036050</td>\n",
       "      <td>3300.0</td>\n",
       "      <td>5</td>\n",
       "      <td>0</td>\n",
       "      <td>0</td>\n",
       "      <td>0</td>\n",
       "      <td>0.0</td>\n",
       "    </tr>\n",
       "    <tr>\n",
       "      <th>4</th>\n",
       "      <td>0.0</td>\n",
       "      <td>0.907239</td>\n",
       "      <td>49</td>\n",
       "      <td>1</td>\n",
       "      <td>0.024926</td>\n",
       "      <td>63588.0</td>\n",
       "      <td>7</td>\n",
       "      <td>0</td>\n",
       "      <td>1</td>\n",
       "      <td>0</td>\n",
       "      <td>0.0</td>\n",
       "    </tr>\n",
       "  </tbody>\n",
       "</table>\n",
       "</div>"
      ],
      "text/plain": [
       "   SeriousDlqin2yrs  RevolvingUtilizationOfUnsecuredLines  age  \\\n",
       "0               1.0                              0.766127   45   \n",
       "1               0.0                              0.957151   40   \n",
       "2               0.0                              0.658180   38   \n",
       "3               0.0                              0.233810   30   \n",
       "4               0.0                              0.907239   49   \n",
       "\n",
       "   NumberOfTime30-59DaysPastDueNotWorse  DebtRatio  MonthlyIncome  \\\n",
       "0                                     2   0.802982         9120.0   \n",
       "1                                     0   0.121876         2600.0   \n",
       "2                                     1   0.085113         3042.0   \n",
       "3                                     0   0.036050         3300.0   \n",
       "4                                     1   0.024926        63588.0   \n",
       "\n",
       "   NumberOfOpenCreditLinesAndLoans  NumberOfTimes90DaysLate  \\\n",
       "0                               13                        0   \n",
       "1                                4                        0   \n",
       "2                                2                        1   \n",
       "3                                5                        0   \n",
       "4                                7                        0   \n",
       "\n",
       "   NumberRealEstateLoansOrLines  NumberOfTime60-89DaysPastDueNotWorse  \\\n",
       "0                             6                                     0   \n",
       "1                             0                                     0   \n",
       "2                             0                                     0   \n",
       "3                             0                                     0   \n",
       "4                             1                                     0   \n",
       "\n",
       "   NumberOfDependents  \n",
       "0                 2.0  \n",
       "1                 1.0  \n",
       "2                 0.0  \n",
       "3                 0.0  \n",
       "4                 0.0  "
      ]
     },
     "execution_count": 4,
     "metadata": {},
     "output_type": "execute_result"
    }
   ],
   "source": [
    "import numpy as np\n",
    "import pandas as pd\n",
    "from scipy import stats\n",
    "import matplotlib.pyplot as plt\n",
    "\n",
    "FILE_INFO = \"Data Dictionary\"\n",
    "FILE_TEST = \"cs-test\"\n",
    "FILE_TRAINING = \"cs-training\"\n",
    "FILE_SAMPLE_ENTRY = \"sampleEntry\"\n",
    "DATA_INFO = pd.read_excel(f\"../data/{FILE_INFO}.xls\")\n",
    "DATA_TEST = pd.read_csv(f\"../data/{FILE_TEST}.csv\", index_col=0)\n",
    "DATA_TRAINING = pd.read_csv(f\"../data/{FILE_TRAINING}.csv\", index_col=0)\n",
    "DATA = pd.concat([DATA_TRAINING, DATA_TEST], axis=0, ignore_index=True)\n",
    "print(DATA.columns)\n",
    "print(DATA.shape)\n",
    "DATA.dropna(axis=0, how='any', inplace=True)\n",
    "DATA.reset_index(drop=True, inplace=True)\n",
    "DATA.head()"
   ]
  },
  {
   "cell_type": "code",
   "execution_count": 15,
   "id": "5faae06a",
   "metadata": {},
   "outputs": [
    {
     "data": {
      "image/png": "[encoded data removed]",
      "text/plain": [
       "<Figure size 640x480 with 1 Axes>"
      ]
     },
     "metadata": {},
     "output_type": "display_data"
    },
    {
     "name": "stdout",
     "output_type": "stream",
     "text": [
      "SeriousDlqin2yrs\n",
      "0.0    8357\n",
      "1.0    8357\n",
      "Name: count, dtype: int64\n"
     ]
    },
    {
     "data": {
      "image/png": "[encoded data removed]",
      "text/plain": [
       "<Figure size 1000x500 with 1 Axes>"
      ]
     },
     "metadata": {},
     "output_type": "display_data"
    }
   ],
   "source": [
    "# équilibrage des classes\n",
    "DATA['SeriousDlqin2yrs'].value_counts().plot(kind='bar')\n",
    "plt.title('Distribution of SeriousDlqin2yrs')\n",
    "plt.xlabel('SeriousDlqin2yrs')\n",
    "plt.ylabel('Count')\n",
    "plt.show()\n",
    "\n",
    "# garder autant de 0 que de 1, il y a beaucoup plus de 0 que de 1\n",
    "# on va donc réduire les 0 pour équilibrer\n",
    "DATA_0 = DATA[DATA['SeriousDlqin2yrs'] == 0]\n",
    "DATA_1 = DATA[DATA['SeriousDlqin2yrs'] == 1]\n",
    "DATA_0_sample = DATA_0.sample(n=len(DATA_1), random_state=42)\n",
    "DATA = pd.concat([DATA_0_sample, DATA_1], axis=0, ignore_index=True)\n",
    "print(DATA['SeriousDlqin2yrs'].value_counts())\n",
    "# réinitialiser les index\n",
    "DATA.reset_index(drop=True, inplace=True)\n",
    "plt.figure(figsize=(10, 5))\n",
    "DATA['SeriousDlqin2yrs'].value_counts().plot(kind='bar')\n",
    "plt.title('Balanced Distribution of SeriousDlqin2yrs')\n",
    "plt.xlabel('SeriousDlqin2yrs')\n",
    "plt.ylabel('Count')\n",
    "plt.show()"
   ]
  },
  {
   "cell_type": "code",
   "execution_count": 17,
   "id": "e631ffa9",
   "metadata": {},
   "outputs": [
    {
     "name": "stdout",
     "output_type": "stream",
     "text": [
      "Best Hyperparameters: {'ccp_alpha': 0.0, 'class_weight': 'balanced', 'criterion': 'log_loss', 'max_depth': 10, 'max_features': 'log2', 'min_impurity_decrease': 0.0, 'min_samples_leaf': 4, 'min_samples_split': 10, 'splitter': 'best'}\n",
      "Accuracy: 0.7544122046066407\n",
      "Confusion Matrix:\n",
      " [[1351  320]\n",
      " [ 501 1171]]\n",
      "Classification Report:\n",
      "               precision    recall  f1-score   support\n",
      "\n",
      "         0.0       0.73      0.81      0.77      1671\n",
      "         1.0       0.79      0.70      0.74      1672\n",
      "\n",
      "    accuracy                           0.75      3343\n",
      "   macro avg       0.76      0.75      0.75      3343\n",
      "weighted avg       0.76      0.75      0.75      3343\n",
      "\n"
     ]
    },
    {
     "data": {
      "image/png": "[encoded data removed]",
      "text/plain": [
       "<Figure size 800x600 with 2 Axes>"
      ]
     },
     "metadata": {},
     "output_type": "display_data"
    }
   ],
   "source": [
    "from sklearn.model_selection import train_test_split\n",
    "from sklearn.tree import DecisionTreeClassifier\n",
    "from sklearn.metrics import accuracy_score, confusion_matrix, classification_report\n",
    "\n",
    "X = DATA.drop(columns=['SeriousDlqin2yrs'])\n",
    "y = DATA['SeriousDlqin2yrs']\n",
    "X_train, X_test, y_train, y_test = train_test_split(X, y, test_size=0.2, random_state=42)\n",
    "\n",
    "from sklearn.model_selection import GridSearchCV\n",
    "\n",
    "param_grid = {\n",
    "    'max_depth': [None, 10, 20, 30],\n",
    "    'min_samples_split': [2, 5, 10],\n",
    "    'min_samples_leaf': [1, 2, 4],\n",
    "    'criterion': ['gini', 'entropy', 'log_loss'],\n",
    "    'max_features': [None, 'sqrt', 'log2'],\n",
    "    'splitter': ['best', 'random'],\n",
    "    'min_impurity_decrease': [0.0, 0.01, 0.1],\n",
    "    'class_weight': [None, 'balanced', {0: 1, 1: 2}, {0: 2, 1: 1}],\n",
    "    'ccp_alpha': [0.0, 0.01, 0.1]\n",
    "}\n",
    "\n",
    "grid_search = GridSearchCV(DecisionTreeClassifier(), param_grid, cv=5, scoring='accuracy')\n",
    "grid_search.fit(X_train, y_train)\n",
    "\n",
    "model = DecisionTreeClassifier(**grid_search.best_params_)\n",
    "model.fit(X_train, y_train)\n",
    "\n",
    "print(\"Best Hyperparameters:\", grid_search.best_params_)\n",
    "\n",
    "y_pred = model.predict(X_test)\n",
    "\n",
    "print(\"Accuracy:\", accuracy_score(y_test, y_pred))\n",
    "print(\"Confusion Matrix:\\n\", confusion_matrix(y_test, y_pred))\n",
    "print(\"Classification Report:\\n\", classification_report(y_test, y_pred))\n",
    "\n",
    "import seaborn as sns\n",
    "plt.figure(figsize=(8, 6))\n",
    "sns.heatmap(confusion_matrix(y_test, y_pred), annot=True, fmt='d', cmap='Blues',\n",
    "            xticklabels=np.unique(y_test), yticklabels=np.unique(y_test))\n",
    "plt.title('Confusion Matrix')\n",
    "plt.xlabel('Predicted')\n",
    "plt.ylabel('Actual')\n",
    "plt.show()"
   ]
  },
  {
   "cell_type": "code",
   "execution_count": null,
   "id": "62a55695",
   "metadata": {},
   "outputs": [],
   "source": []
  }
 ],
 "metadata": {
  "kernelspec": {
   "display_name": "Python 3",
   "language": "python",
   "name": "python3"
  },
  "language_info": {
   "codemirror_mode": {
    "name": "ipython",
    "version": 3
   },
   "file_extension": ".py",
   "mimetype": "text/x-python",
   "name": "python",
   "nbconvert_exporter": "python",
   "pygments_lexer": "ipython3",
   "version": "3.8.10"
  }
 },
 "nbformat": 4,
 "nbformat_minor": 5
}
