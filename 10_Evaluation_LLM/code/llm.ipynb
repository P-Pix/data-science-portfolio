{
 "cells": [
  {
   "cell_type": "markdown",
   "id": "42084f12",
   "metadata": {},
   "source": [
    "# Projet 10 – Évaluation des performances d’un LLM\n",
    "\n",
    "Vous testerez et comparerez différentes stratégies d'évaluation de modèles de langage dans un pipeline RAG pour en garantir la qualité et la cohérence.\n",
    "\n",
    "🔧 Objectifs :\n",
    "- Définir des métriques pertinentes\n",
    "- Mettre en place des tests automatisés\n",
    "\n",
    "Data :\n",
    "- Données issues de moi"
   ]
  },
  {
   "cell_type": "markdown",
   "id": "fb21631c",
   "metadata": {},
   "source": []
  }
 ],
 "metadata": {
  "language_info": {
   "name": "python"
  }
 },
 "nbformat": 4,
 "nbformat_minor": 5
}
